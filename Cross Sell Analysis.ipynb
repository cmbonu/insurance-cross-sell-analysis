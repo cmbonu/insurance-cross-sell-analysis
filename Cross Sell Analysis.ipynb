{
 "cells": [
  {
   "cell_type": "code",
   "execution_count": 1,
   "metadata": {},
   "outputs": [],
   "source": [
    "import pandas as pd\n",
    "import glob"
   ]
  },
  {
   "cell_type": "code",
   "execution_count": 2,
   "metadata": {},
   "outputs": [],
   "source": [
    "path = r'C:\\workspace\\notebooks\\health-ins-cross-sell\\results'\n",
    "all_files = glob.glob(path + \"/*.csv\")"
   ]
  },
  {
   "cell_type": "code",
   "execution_count": 3,
   "metadata": {},
   "outputs": [],
   "source": [
    "summary_df = [pd.read_csv(f) for f in all_files]\n",
    "summary_df_all=pd.concat(summary_df)\n",
    "summary_df_all = summary_df_all.reset_index()\n",
    "summary_df_all.drop('index',inplace=True,axis=1)"
   ]
  },
  {
   "cell_type": "code",
   "execution_count": 4,
   "metadata": {},
   "outputs": [
    {
     "data": {
      "text/html": [
       "<div>\n",
       "<style scoped>\n",
       "    .dataframe tbody tr th:only-of-type {\n",
       "        vertical-align: middle;\n",
       "    }\n",
       "\n",
       "    .dataframe tbody tr th {\n",
       "        vertical-align: top;\n",
       "    }\n",
       "\n",
       "    .dataframe thead th {\n",
       "        text-align: right;\n",
       "    }\n",
       "</style>\n",
       "<table border=\"1\" class=\"dataframe\">\n",
       "  <thead>\n",
       "    <tr style=\"text-align: right;\">\n",
       "      <th></th>\n",
       "      <th>merged_columns_names</th>\n",
       "      <th>merged_columns_values</th>\n",
       "      <th>Y</th>\n",
       "      <th>N</th>\n",
       "      <th>total</th>\n",
       "      <th>pct</th>\n",
       "      <th>col_count</th>\n",
       "    </tr>\n",
       "  </thead>\n",
       "  <tbody>\n",
       "    <tr>\n",
       "      <th>3537175</th>\n",
       "      <td>Vehicle_Age &gt;&gt;&gt; premium_group</td>\n",
       "      <td>&gt; 2 Years &gt;&gt;&gt; prem_4</td>\n",
       "      <td>514.0</td>\n",
       "      <td>933.0</td>\n",
       "      <td>1447.0</td>\n",
       "      <td>0.355418</td>\n",
       "      <td>2</td>\n",
       "    </tr>\n",
       "    <tr>\n",
       "      <th>3537185</th>\n",
       "      <td>Vehicle_Age &gt;&gt;&gt; age_group</td>\n",
       "      <td>&gt; 2 Years &gt;&gt;&gt; age_2</td>\n",
       "      <td>1339.0</td>\n",
       "      <td>2532.0</td>\n",
       "      <td>3871.0</td>\n",
       "      <td>0.345985</td>\n",
       "      <td>2</td>\n",
       "    </tr>\n",
       "    <tr>\n",
       "      <th>3537186</th>\n",
       "      <td>Vehicle_Age &gt;&gt;&gt; age_group</td>\n",
       "      <td>&gt; 2 Years &gt;&gt;&gt; age_3</td>\n",
       "      <td>2254.0</td>\n",
       "      <td>4645.0</td>\n",
       "      <td>6899.0</td>\n",
       "      <td>0.326764</td>\n",
       "      <td>2</td>\n",
       "    </tr>\n",
       "    <tr>\n",
       "      <th>3538075</th>\n",
       "      <td>Vehicle_Damage &gt;&gt;&gt; age_group</td>\n",
       "      <td>Yes &gt;&gt;&gt; age_2</td>\n",
       "      <td>19813.0</td>\n",
       "      <td>42328.0</td>\n",
       "      <td>62141.0</td>\n",
       "      <td>0.318845</td>\n",
       "      <td>2</td>\n",
       "    </tr>\n",
       "    <tr>\n",
       "      <th>3537174</th>\n",
       "      <td>Vehicle_Age &gt;&gt;&gt; premium_group</td>\n",
       "      <td>&gt; 2 Years &gt;&gt;&gt; prem_3</td>\n",
       "      <td>2271.0</td>\n",
       "      <td>4900.0</td>\n",
       "      <td>7171.0</td>\n",
       "      <td>0.316743</td>\n",
       "      <td>2</td>\n",
       "    </tr>\n",
       "  </tbody>\n",
       "</table>\n",
       "</div>"
      ],
      "text/plain": [
       "                  merged_columns_names merged_columns_values        Y  \\\n",
       "3537175  Vehicle_Age >>> premium_group  > 2 Years >>> prem_4    514.0   \n",
       "3537185      Vehicle_Age >>> age_group   > 2 Years >>> age_2   1339.0   \n",
       "3537186      Vehicle_Age >>> age_group   > 2 Years >>> age_3   2254.0   \n",
       "3538075   Vehicle_Damage >>> age_group         Yes >>> age_2  19813.0   \n",
       "3537174  Vehicle_Age >>> premium_group  > 2 Years >>> prem_3   2271.0   \n",
       "\n",
       "               N    total       pct  col_count  \n",
       "3537175    933.0   1447.0  0.355418          2  \n",
       "3537185   2532.0   3871.0  0.345985          2  \n",
       "3537186   4645.0   6899.0  0.326764          2  \n",
       "3538075  42328.0  62141.0  0.318845          2  \n",
       "3537174   4900.0   7171.0  0.316743          2  "
      ]
     },
     "execution_count": 4,
     "metadata": {},
     "output_type": "execute_result"
    }
   ],
   "source": [
    "# total : Customer count treshold\n",
    "# pct : Success percentage treshold\n",
    "# col_count : Attribute complexity (1-4)\n",
    "summary_df_all[(summary_df_all['total']>1000) & \\\n",
    "               (summary_df_all['pct']>.2)  & \\\n",
    "               (summary_df_all['col_count']==2) & \\\n",
    "               (summary_df_all['merged_columns_names'].apply(lambda x : 'Policy_Sales_Channel' not in x))  & \\\n",
    "               (summary_df_all['merged_columns_names'].apply(lambda x : 'Region_Code' not in x))]\\\n",
    "               .sort_values(by='pct',ascending=False)\\\n",
    "               .head(5)"
   ]
  },
  {
   "cell_type": "markdown",
   "metadata": {},
   "source": [
    "## Notes\n",
    "\n",
    "\n",
    "##### Quantitative Customer Personas for Health Insurance Cross Sell\n",
    "\n",
    "* Average Cross sell rate is 12.4%\n",
    "\n",
    "##### Indicators for increased likelyhood of cross sell\n",
    "* Without previous insurance\n",
    "* With Vehicle damage\n",
    "* Between 32 and 46 years old\n",
    "* Vehicle over 2 years old\n",
    "\n",
    "##### Indicators for low likelyhood of cross sell\n",
    "* No Vehicle damage\n",
    "* Previously insured\n",
    "* Vehicle below 1 year old\n",
    "* 20 to 32 years old or 60 to 85 years old\n",
    "* Female\n",
    "\n",
    "##### Cross sell opportunities\n",
    "* Customers between 32 and 46 years old with damaged vehicles (~31%)\n",
    "* Customers between 32 and 46 years without previous insurance (~30%)\n",
    "* Customers between 32 and 46 years without previous insurance with damaged vehicles (~33%)\n",
    "* Customers between 32 and 46 with damaged vehicles paying premium between USD36292.0 and USD57361.0 (~33%)\n",
    "* Customers between 32 and 60 with vehicles older than 2 years (~33%)\n",
    "* Male customers with vehicles over 2 years old\n",
    "* Customers with vechicles over 2 years old with premium above USD57361.0 (~35%)\n",
    "* Customers between 32 to 46 years old with license but without previous insurance (~30%)\n",
    "* Customers between 32 to 46 years old with damaged vehicles below 1 year old (~30%)"
   ]
  },
  {
   "cell_type": "code",
   "execution_count": null,
   "metadata": {},
   "outputs": [],
   "source": []
  }
 ],
 "metadata": {
  "kernelspec": {
   "display_name": "Python 3",
   "language": "python",
   "name": "python3"
  },
  "language_info": {
   "codemirror_mode": {
    "name": "ipython",
    "version": 3
   },
   "file_extension": ".py",
   "mimetype": "text/x-python",
   "name": "python",
   "nbconvert_exporter": "python",
   "pygments_lexer": "ipython3",
   "version": "3.8.5"
  }
 },
 "nbformat": 4,
 "nbformat_minor": 4
}
